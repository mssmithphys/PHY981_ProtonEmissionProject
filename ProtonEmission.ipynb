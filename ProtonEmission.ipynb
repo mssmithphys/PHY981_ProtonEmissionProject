{
 "cells": [
  {
   "cell_type": "code",
   "execution_count": 128,
   "id": "b8fc350e",
   "metadata": {},
   "outputs": [],
   "source": [
    "import numpy as np\n",
    "import matplotlib.pyplot as plt\n",
    "import pandas as pd"
   ]
  },
  {
   "cell_type": "code",
   "execution_count": 263,
   "id": "83d7ce19",
   "metadata": {},
   "outputs": [
    {
     "name": "stdout",
     "output_type": "stream",
     "text": [
      "    Z    A      Q  l    j     Texpt    dTdown       dTup\n",
      "0  53  109  0.829  2  2.5  0.000109  0.000017   0.000017\n",
      "1  55  113  0.977  4  3.5  0.000033  0.000007   0.000007\n",
      "2  69  147  1.071  5  5.5  2.700000  0.900000   2.400000\n",
      "3  69  147  1.139  2  1.5  0.000360  0.000080   0.000080\n",
      "4  71  150  1.285  5  5.5  0.010000  0.000000  10.000000\n",
      "5  71  151  1.255  5  5.5  0.120000  0.040000   0.120000\n",
      "6  73  156  1.015  2  1.5  0.165000  0.055000   0.165000\n",
      "7  75  160  1.250  2  1.5  0.000870  0.000170   0.000230\n"
     ]
    }
   ],
   "source": [
    "## universal constants\n",
    "e2 = 1.4399764 # MeV*fm\n",
    "a = 0.7 # fm\n",
    "hbarmpic = 2.044 #fm^2 (hbar/m_pi c)^2\n",
    "V0 = 54 # MeV\n",
    "## R = 1.2A^1/3\n",
    "Vso = 0.2*V0\n",
    "Num = 200000 # number for the number of steps in an integration calculation\n",
    "\n",
    "df = pd.read_csv(\"sphericalprotonemitters.csv\")\n",
    "print(df)"
   ]
  },
  {
   "cell_type": "code",
   "execution_count": 264,
   "id": "23dc70a4",
   "metadata": {},
   "outputs": [
    {
     "name": "stdout",
     "output_type": "stream",
     "text": [
      "[5.30e+01 1.09e+02 8.29e-01 2.00e+00 2.50e+00 1.09e-04 1.70e-05 1.70e-05]\n"
     ]
    }
   ],
   "source": [
    "print(df.iloc[0].values)"
   ]
  },
  {
   "cell_type": "code",
   "execution_count": 265,
   "id": "de9de28b",
   "metadata": {},
   "outputs": [
    {
     "name": "stdout",
     "output_type": "stream",
     "text": [
      "-53.702816934323906\n"
     ]
    }
   ],
   "source": [
    "## functions\n",
    "\n",
    "def WoodsSaxonFunc(r,R):\n",
    "    return 1./(1+np.exp((r-R)/a))\n",
    "\n",
    "def WoodsSaxonPotential(r,R,l,j):\n",
    "    dr = 0.000001*r\n",
    "    ddrFws = (WoodsSaxonFunc(r+dr,R)-WoodsSaxonFunc(r-dr,R))/(2*dr)\n",
    "    s = j-l\n",
    "    ls = (1/2)*(j*(j+1)-l*(l+1)-s*(s+1))\n",
    "    return -V0*WoodsSaxonFunc(r,R)+Vso*hbarmpic*(2/r)*ddrFws*(ls)\n",
    "print(WoodsSaxonPotential(2.5,5.7,2,2.5))\n",
    "\n",
    "def Vcoul(r,R,Z):\n",
    "    if r > R:\n",
    "        return Z*e2/r\n",
    "    else:\n",
    "        return Z*e2/(2*R)*(3-(r/R)**2)\n",
    "\n",
    "def Vtot(r,R,Z,l,j):\n",
    "    return WoodsSaxonPotential(r,R,l,j)+Vcoul(r,R,Z)+(1/(2*r**2))*(197.**2)/(938.3)*l*(l+1)\n",
    "\n",
    "def k(r,Q,R,Z,l,j):\n",
    "    return np.sqrt(2*(938/(197*197))*np.abs((Q-Vtot(r,R,Z,l,j))))\n",
    "\n",
    "def N(r0,r1,Q,R,Z,l,j):\n",
    "    rspace = np.linspace(r0,r1,Num)\n",
    "    Nsum = 0\n",
    "    dr = rspace[1]-rspace[0]\n",
    "    Nsum = dr/(3*k(rspace[0],Q,R,Z,l,j))\n",
    "    Nsum += dr/(3*k(rspace[-1],Q,R,Z,l,j))\n",
    "    for i in range(1,Num-1):\n",
    "        if i%2 == 1:\n",
    "            fac = 4\n",
    "        else:\n",
    "            fac = 2\n",
    "        step = (fac/3)*dr/k(rspace[i],Q,R,Z,l,j)\n",
    "        Nsum += step\n",
    "    Ninv = (.5)*Nsum\n",
    "    return 1/Ninv\n",
    "\n",
    "def Gamma(Sp,r0,r1,r2,Q,R,Z,l,j):\n",
    "    rspace = np.linspace(r1,r2,Num)\n",
    "    dr = rspace[1] - rspace[0]\n",
    "    Nterm = N(r0,r1,Q,R,Z,l,j)\n",
    "    \n",
    "    massterm = Sp*197*197/(4*938)\n",
    "    Nsum = (dr/3)*np.real(k(rspace[0],Q,R,Z,l,j))/2\n",
    "    Nsum += (dr/3)*np.real(k(rspace[-1],Q,R,Z,l,j))/2\n",
    "    for i in range(0,Num):\n",
    "        if i%2 == 1:\n",
    "            fac = 4\n",
    "        else:\n",
    "            fac = 2\n",
    "        step = (fac*dr/3)*np.real(k(rspace[i],Q,R,Z,l,j))\n",
    "        Nsum += step\n",
    "    #print(Nsum)\n",
    "    return massterm*Nterm*np.exp(-2*Nsum)\n"
   ]
  },
  {
   "cell_type": "code",
   "execution_count": 266,
   "id": "f2e102ba",
   "metadata": {},
   "outputs": [],
   "source": [
    "def zerofinder(Vtot,R,Z,l,j,guess,E,thresh):\n",
    "    variable = True\n",
    "    ro=guess\n",
    "    while variable:\n",
    "        if np.abs(Vtot(ro,R,Z,l,j)-E) < thresh:\n",
    "            variable = False\n",
    "        else:\n",
    "            dr = .000001\n",
    "            ddr = (Vtot(ro+dr,R,Z,l,j)-Vtot(ro-dr,R,Z,l,j))/(2*dr)\n",
    "            ro = ro-Vtot(ro,R,Z,l,j)/ddr + E/ddr\n",
    "        #print(Vtot(ro,R,Z,l,j))\n",
    "    return ro\n",
    "\n",
    "def CalcHalfLife(Sp,Z,A,Q,l,j):\n",
    "    R = 1.2*A**(1/3)\n",
    "    r0 = zerofinder(Vtot,R,Z,l,j,.5,Q,0.0001)\n",
    "    r1 = zerofinder(Vtot,R,Z,l,j,6.2,Q,0.0001)\n",
    "    r2 = zerofinder(Vtot,R,Z,l,j,100,Q,0.0001)\n",
    "    print(r0)\n",
    "    print(r1)\n",
    "    print(r2)\n",
    "    gamma = Gamma(Sp,r0,r1,r2,Q,R,Z,l,j)\n",
    "    hbar = (6.582*10**(-22))*np.log(2) # MeV s\n",
    "    return hbar/gamma,r0\n",
    "\n",
    "#print(CalcHalfLife(1,71,151,1.255,5,5.5))"
   ]
  },
  {
   "cell_type": "code",
   "execution_count": 267,
   "id": "aa30ba9a",
   "metadata": {},
   "outputs": [
    {
     "name": "stdout",
     "output_type": "stream",
     "text": [
      "1.8699693945380573\n",
      "6.61653785618391\n",
      "93.65725828159022\n",
      "3.4984336842075665\n",
      "5.517821393751453\n",
      "85.9864978807903\n",
      "4.261562422299423\n",
      "6.561753765884649\n",
      "98.64406465137967\n",
      "1.9632515675204734\n",
      "6.806213844027819\n",
      "88.46443608417408\n",
      "4.275268406270661\n",
      "6.606237121735163\n",
      "85.22775739027935\n",
      "4.274139190188486\n",
      "6.6239378553243\n",
      "87.1380021891436\n",
      "1.9930951414130376\n",
      "6.891122041656027\n",
      "104.7316105497576\n",
      "1.9997237584247674\n",
      "6.94572444597838\n",
      "87.53261721919633\n"
     ]
    }
   ],
   "source": [
    "InitLifetime = np.zeros(len(df))\n",
    "for i in range(0,len(df)):\n",
    "    args = df.iloc[i].values\n",
    "    InitLifetime[i] = CalcHalfLife(1,args[0],args[1],args[2],args[3],args[4])[0]"
   ]
  },
  {
   "cell_type": "code",
   "execution_count": 268,
   "id": "fa13ac14",
   "metadata": {},
   "outputs": [
    {
     "data": {
      "image/png": "[encoded data removed]",
      "text/plain": [
       "<Figure size 640x480 with 1 Axes>"
      ]
     },
     "metadata": {},
     "output_type": "display_data"
    }
   ],
   "source": [
    "fig = plt.figure(1)\n",
    "ax = fig.add_subplot(1,1,1)\n",
    "ax.set_yscale('log')\n",
    "for i in range(0,len(df)):\n",
    "    args = df.iloc[i].values\n",
    "    ax.plot(i,args[-3],'r.',label=\"Experimental Data\" if i == 0 else None)\n",
    "    ax.plot(i,InitLifetime[i],'b.',label=\"Model Value\" if i == 0 else None)\n",
    "    errorx = [i,i]\n",
    "    errory = [args[-3]-args[-2],args[-3]+args[-1]]\n",
    "    ax.plot(errorx,errory,'black')\n",
    "ax.set_ylim(.00001,10)\n",
    "ax.set_xlabel(\"Nucleus\")\n",
    "ax.set_ylabel(\"Lifetime (s)\")\n",
    "ax.set_title(\"Spectroscopic factor = 1\")\n",
    "ax.legend()\n",
    "plt.show()"
   ]
  },
  {
   "cell_type": "code",
   "execution_count": 269,
   "id": "9a707219",
   "metadata": {},
   "outputs": [
    {
     "name": "stdout",
     "output_type": "stream",
     "text": [
      "For Z = 53.0 and A = 109.0, lifetime is 2.825e-05\n",
      "For Z = 55.0 and A = 113.0, lifetime is 7.181e-04\n",
      "For Z = 69.0 and A = 147.0, lifetime is 4.716e+00\n",
      "For Z = 69.0 and A = 147.0, lifetime is 5.453e-04\n",
      "For Z = 71.0 and A = 150.0, lifetime is 4.783e-02\n",
      "For Z = 71.0 and A = 151.0, lifetime is 9.744e-02\n",
      "For Z = 73.0 and A = 156.0, lifetime is 5.286e-01\n",
      "For Z = 75.0 and A = 160.0, lifetime is 1.982e-03\n"
     ]
    }
   ],
   "source": [
    "for i in range(0,len(df)):\n",
    "    args = df.iloc[i].values\n",
    "    print(\"For Z = {} and A = {}, lifetime is {:.3e}\".format(args[0],args[1],InitLifetime[i]))"
   ]
  },
  {
   "cell_type": "code",
   "execution_count": 179,
   "id": "5674478b",
   "metadata": {},
   "outputs": [
    {
     "name": "stdout",
     "output_type": "stream",
     "text": [
      "0.2938038393722664\n",
      "-11.030873243088529\n",
      "5.73222741724202\n",
      "1.619441191566892e-17\n",
      "2.8172030983300517e-05\n"
     ]
    }
   ],
   "source": [
    "# r0 = 3.393\n",
    "# r1 = 5.613\n",
    "# r2 = 241.74\n",
    "R = 1.2*109**(1/3)\n",
    "print(k(30.73222,.829,5.73222,53,2,2.5))\n",
    "print(Vtot(5.8322,5.7322,53,2,2.5))\n",
    "print(R)\n",
    "print(Gamma(1,1.87,6.6165,93.66,.829,R,53,2,2.5))\n",
    "print(6.582*10**(-22)*np.log(2)/Gamma(1,1.87,6.6165,93.66,.829,R,53,2,2.5))"
   ]
  },
  {
   "cell_type": "code",
   "execution_count": 219,
   "id": "58022887",
   "metadata": {},
   "outputs": [
    {
     "data": {
      "image/png": "[encoded data removed]",
      "text/plain": [
       "<Figure size 640x480 with 1 Axes>"
      ]
     },
     "metadata": {},
     "output_type": "display_data"
    }
   ],
   "source": [
    "rspace = np.linspace(1.5,250,10000)\n",
    "Vtotspace = np.zeros(10000)\n",
    "#Vcoulspace = np.zeros(10000)\n",
    "#Vws = np.zeros(10000)\n",
    "#VSO = np.zeros(10000)\n",
    "for i in range(0,10000):\n",
    "    R = 1.2*113**(1/3)\n",
    "    Vtotspace[i] = Vtot(rspace[i],R,55,4,3.5)\n",
    "#    Vcoulspace[i] = Vcoul(rspace[i],R,53)\n",
    "#    Vws[i] = WoodsSaxonPotential(rspace[i],R,2,2.5)\n",
    "#    VSO[i] = Vtotspace[i] - Vcoulspace[i] - Vws[i]\n",
    "    \n",
    "plt.figure(1)\n",
    "plt.plot(rspace,Vtotspace)\n",
    "#plt.plot(rspace,Vcoulspace)\n",
    "#plt.plot(rspace,Vws,'r')\n",
    "#plt.plot(rspace,VSO,'b')\n",
    "plt.axhline(.977)\n",
    "plt.xlim(1,10)\n",
    "#plt.ylim(.828,.830)\n",
    "plt.show()"
   ]
  },
  {
   "cell_type": "code",
   "execution_count": 24,
   "id": "875381b6",
   "metadata": {},
   "outputs": [
    {
     "data": {
      "text/plain": [
       "137.7925636841612"
      ]
     },
     "execution_count": 24,
     "metadata": {},
     "output_type": "execute_result"
    }
   ],
   "source": [
    "np.sqrt((197*197)/2.044)"
   ]
  },
  {
   "cell_type": "code",
   "execution_count": null,
   "id": "50a0d9bf",
   "metadata": {},
   "outputs": [],
   "source": []
  }
 ],
 "metadata": {
  "kernelspec": {
   "display_name": "Python 3 (ipykernel)",
   "language": "python",
   "name": "python3"
  },
  "language_info": {
   "codemirror_mode": {
    "name": "ipython",
    "version": 3
   },
   "file_extension": ".py",
   "mimetype": "text/x-python",
   "name": "python",
   "nbconvert_exporter": "python",
   "pygments_lexer": "ipython3",
   "version": "3.10.12"
  }
 },
 "nbformat": 4,
 "nbformat_minor": 5
}
